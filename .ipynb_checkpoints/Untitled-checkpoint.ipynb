{
 "cells": [
  {
   "cell_type": "code",
   "execution_count": 1,
   "metadata": {},
   "outputs": [
    {
     "name": "stdout",
     "output_type": "stream",
     "text": [
      "Enter the temperatures in degrees Fahrenheit? 100\n",
      "\n",
      "The temperature 100.0 degrees Fahrenheit is 37.78 degrees Celsius.\n"
     ]
    }
   ],
   "source": [
    "f = float(input(\"Enter the temperatures in degrees Fahrenheit? \"))\n",
    "c = (f-32)*5/9\n",
    "c\n",
    "print()\n",
    "print(\"The temperature \" + str(f) + \" degrees Fahrenheit is \" + str(round((c),2)) +\n",
    "\" degrees Celsius.\")"
   ]
  },
  {
   "cell_type": "code",
   "execution_count": null,
   "metadata": {},
   "outputs": [],
   "source": []
  }
 ],
 "metadata": {
  "kernelspec": {
   "display_name": "Python 3",
   "language": "python",
   "name": "python3"
  },
  "language_info": {
   "codemirror_mode": {
    "name": "ipython",
    "version": 3
   },
   "file_extension": ".py",
   "mimetype": "text/x-python",
   "name": "python",
   "nbconvert_exporter": "python",
   "pygments_lexer": "ipython3",
   "version": "3.7.0"
  }
 },
 "nbformat": 4,
 "nbformat_minor": 2
}
